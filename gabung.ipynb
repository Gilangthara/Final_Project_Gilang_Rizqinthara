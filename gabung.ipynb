{
 "cells": [
  {
   "cell_type": "code",
   "execution_count": 1,
   "metadata": {
    "ExecuteTime": {
     "end_time": "2019-11-20T00:07:43.629197Z",
     "start_time": "2019-11-20T00:07:42.775591Z"
    }
   },
   "outputs": [],
   "source": [
    "import pandas as pd\n",
    "import numpy as np\n",
    "import matplotlib.pyplot as plt\n",
    "import seaborn as sns\n",
    "%matplotlib inline\n",
    "import datetime\n",
    "import random"
   ]
  },
  {
   "cell_type": "code",
   "execution_count": 2,
   "metadata": {
    "ExecuteTime": {
     "end_time": "2019-11-20T00:07:43.652214Z",
     "start_time": "2019-11-20T00:07:43.631195Z"
    }
   },
   "outputs": [],
   "source": [
    "toyota_pred = pd.read_csv('toyota_predict.csv')\n",
    "daihatsu_pred=pd.read_csv('daihatsu_predict.csv')\n",
    "honda_pred=pd.read_csv('honda_predict.csv')\n",
    "mitsubishi_pred=pd.read_csv('mitsubishi_predict.csv')\n",
    "suzuki_pred=pd.read_csv('suzuki_predict.csv')\n",
    "others_pred=pd.read_csv('others_predict.csv')"
   ]
  },
  {
   "cell_type": "code",
   "execution_count": 4,
   "metadata": {
    "ExecuteTime": {
     "end_time": "2019-11-20T00:07:43.906402Z",
     "start_time": "2019-11-20T00:07:43.780301Z"
    }
   },
   "outputs": [],
   "source": [
    "pred_gabungan=pd.merge(toyota_pred, daihatsu_pred)"
   ]
  },
  {
   "cell_type": "code",
   "execution_count": 5,
   "metadata": {
    "ExecuteTime": {
     "end_time": "2019-11-20T00:07:44.014467Z",
     "start_time": "2019-11-20T00:07:43.908391Z"
    }
   },
   "outputs": [],
   "source": [
    "pred_gabungan=pd.merge(pred_gabungan, honda_pred)"
   ]
  },
  {
   "cell_type": "code",
   "execution_count": 6,
   "metadata": {
    "ExecuteTime": {
     "end_time": "2019-11-20T00:07:44.152564Z",
     "start_time": "2019-11-20T00:07:44.016467Z"
    }
   },
   "outputs": [],
   "source": [
    "pred_gabungan=pd.merge(pred_gabungan, mitsubishi_pred)"
   ]
  },
  {
   "cell_type": "code",
   "execution_count": 7,
   "metadata": {
    "ExecuteTime": {
     "end_time": "2019-11-20T00:07:44.272650Z",
     "start_time": "2019-11-20T00:07:44.153565Z"
    }
   },
   "outputs": [],
   "source": [
    "pred_gabungan=pd.merge(pred_gabungan, suzuki_pred)"
   ]
  },
  {
   "cell_type": "code",
   "execution_count": 8,
   "metadata": {
    "ExecuteTime": {
     "end_time": "2019-11-20T00:07:44.382741Z",
     "start_time": "2019-11-20T00:07:44.274649Z"
    }
   },
   "outputs": [],
   "source": [
    "pred_gabungan=pd.merge(pred_gabungan, others_pred)"
   ]
  },
  {
   "cell_type": "code",
   "execution_count": 9,
   "metadata": {
    "ExecuteTime": {
     "end_time": "2019-11-20T00:07:44.514836Z",
     "start_time": "2019-11-20T00:07:44.384727Z"
    }
   },
   "outputs": [
    {
     "data": {
      "text/plain": [
       "Index(['Unnamed: 0', 'Toyota', 'Daihatsu', 'honda', 'mitsubishi', 'suzuki',\n",
       "       'others'],\n",
       "      dtype='object')"
      ]
     },
     "execution_count": 9,
     "metadata": {},
     "output_type": "execute_result"
    }
   ],
   "source": [
    "pred_gabungan.columns"
   ]
  },
  {
   "cell_type": "code",
   "execution_count": 10,
   "metadata": {
    "ExecuteTime": {
     "end_time": "2019-11-20T00:07:44.645912Z",
     "start_time": "2019-11-20T00:07:44.515824Z"
    }
   },
   "outputs": [],
   "source": [
    "pred_gabungan.columns=['Periode', 'Toyota', 'Mitsubishi', 'Honda', 'Daihatsu', 'Suzuki','Others']"
   ]
  },
  {
   "cell_type": "code",
   "execution_count": null,
   "metadata": {},
   "outputs": [],
   "source": []
  },
  {
   "cell_type": "code",
   "execution_count": 11,
   "metadata": {
    "ExecuteTime": {
     "end_time": "2019-11-20T00:07:44.798034Z",
     "start_time": "2019-11-20T00:07:44.647913Z"
    }
   },
   "outputs": [],
   "source": [
    "pred_gabungan.to_csv('pred_gabungan.csv')"
   ]
  },
  {
   "cell_type": "code",
   "execution_count": 12,
   "metadata": {
    "ExecuteTime": {
     "end_time": "2019-11-20T00:07:44.951127Z",
     "start_time": "2019-11-20T00:07:44.800021Z"
    }
   },
   "outputs": [
    {
     "data": {
      "text/html": [
       "<div>\n",
       "<style scoped>\n",
       "    .dataframe tbody tr th:only-of-type {\n",
       "        vertical-align: middle;\n",
       "    }\n",
       "\n",
       "    .dataframe tbody tr th {\n",
       "        vertical-align: top;\n",
       "    }\n",
       "\n",
       "    .dataframe thead th {\n",
       "        text-align: right;\n",
       "    }\n",
       "</style>\n",
       "<table border=\"1\" class=\"dataframe\">\n",
       "  <thead>\n",
       "    <tr style=\"text-align: right;\">\n",
       "      <th></th>\n",
       "      <th>Periode</th>\n",
       "      <th>Toyota</th>\n",
       "      <th>Mitsubishi</th>\n",
       "      <th>Honda</th>\n",
       "      <th>Daihatsu</th>\n",
       "      <th>Suzuki</th>\n",
       "      <th>Others</th>\n",
       "    </tr>\n",
       "  </thead>\n",
       "  <tbody>\n",
       "    <tr>\n",
       "      <th>0</th>\n",
       "      <td>2016-03-01</td>\n",
       "      <td>24757.254310</td>\n",
       "      <td>14141.217827</td>\n",
       "      <td>17490.617889</td>\n",
       "      <td>13294.833804</td>\n",
       "      <td>10189.854467</td>\n",
       "      <td>8742.317873</td>\n",
       "    </tr>\n",
       "    <tr>\n",
       "      <th>1</th>\n",
       "      <td>2016-04-01</td>\n",
       "      <td>26390.649614</td>\n",
       "      <td>14733.847421</td>\n",
       "      <td>17352.831588</td>\n",
       "      <td>14269.376629</td>\n",
       "      <td>9254.586487</td>\n",
       "      <td>9720.841259</td>\n",
       "    </tr>\n",
       "    <tr>\n",
       "      <th>2</th>\n",
       "      <td>2016-05-01</td>\n",
       "      <td>28842.018235</td>\n",
       "      <td>14069.183933</td>\n",
       "      <td>19634.831041</td>\n",
       "      <td>14083.143453</td>\n",
       "      <td>9519.436759</td>\n",
       "      <td>11018.031074</td>\n",
       "    </tr>\n",
       "    <tr>\n",
       "      <th>3</th>\n",
       "      <td>2016-06-01</td>\n",
       "      <td>26225.990403</td>\n",
       "      <td>13322.618144</td>\n",
       "      <td>15973.294690</td>\n",
       "      <td>13389.532391</td>\n",
       "      <td>8400.022076</td>\n",
       "      <td>8969.620154</td>\n",
       "    </tr>\n",
       "    <tr>\n",
       "      <th>4</th>\n",
       "      <td>2016-07-01</td>\n",
       "      <td>23858.384288</td>\n",
       "      <td>13020.918170</td>\n",
       "      <td>17703.844896</td>\n",
       "      <td>15080.655937</td>\n",
       "      <td>8368.249276</td>\n",
       "      <td>9420.546893</td>\n",
       "    </tr>\n",
       "    <tr>\n",
       "      <th>5</th>\n",
       "      <td>2016-08-01</td>\n",
       "      <td>19551.870124</td>\n",
       "      <td>12401.588144</td>\n",
       "      <td>14411.985789</td>\n",
       "      <td>13109.305343</td>\n",
       "      <td>8158.883201</td>\n",
       "      <td>8328.209040</td>\n",
       "    </tr>\n",
       "    <tr>\n",
       "      <th>6</th>\n",
       "      <td>2016-09-01</td>\n",
       "      <td>19555.268651</td>\n",
       "      <td>12211.263269</td>\n",
       "      <td>15083.680696</td>\n",
       "      <td>13273.889581</td>\n",
       "      <td>8387.250058</td>\n",
       "      <td>8854.278436</td>\n",
       "    </tr>\n",
       "    <tr>\n",
       "      <th>7</th>\n",
       "      <td>2016-10-01</td>\n",
       "      <td>25468.590366</td>\n",
       "      <td>12246.370094</td>\n",
       "      <td>17863.442031</td>\n",
       "      <td>13501.508533</td>\n",
       "      <td>7239.324304</td>\n",
       "      <td>9602.622739</td>\n",
       "    </tr>\n",
       "    <tr>\n",
       "      <th>8</th>\n",
       "      <td>2016-11-01</td>\n",
       "      <td>22203.738563</td>\n",
       "      <td>12473.067697</td>\n",
       "      <td>16955.368016</td>\n",
       "      <td>14929.845536</td>\n",
       "      <td>7801.688404</td>\n",
       "      <td>9678.837768</td>\n",
       "    </tr>\n",
       "    <tr>\n",
       "      <th>9</th>\n",
       "      <td>2016-12-01</td>\n",
       "      <td>22134.517616</td>\n",
       "      <td>13320.114441</td>\n",
       "      <td>18018.530737</td>\n",
       "      <td>15712.634539</td>\n",
       "      <td>7872.333140</td>\n",
       "      <td>8943.603383</td>\n",
       "    </tr>\n",
       "    <tr>\n",
       "      <th>10</th>\n",
       "      <td>2017-01-01</td>\n",
       "      <td>22250.433730</td>\n",
       "      <td>12471.564034</td>\n",
       "      <td>17175.211004</td>\n",
       "      <td>17671.655528</td>\n",
       "      <td>7076.278412</td>\n",
       "      <td>8605.592900</td>\n",
       "    </tr>\n",
       "    <tr>\n",
       "      <th>11</th>\n",
       "      <td>2017-02-01</td>\n",
       "      <td>16037.005353</td>\n",
       "      <td>10704.983965</td>\n",
       "      <td>15670.976852</td>\n",
       "      <td>15579.340350</td>\n",
       "      <td>6192.803595</td>\n",
       "      <td>9321.775578</td>\n",
       "    </tr>\n",
       "    <tr>\n",
       "      <th>12</th>\n",
       "      <td>2017-03-01</td>\n",
       "      <td>16837.433830</td>\n",
       "      <td>11335.009346</td>\n",
       "      <td>18389.919636</td>\n",
       "      <td>16493.368591</td>\n",
       "      <td>6283.510039</td>\n",
       "      <td>7908.245731</td>\n",
       "    </tr>\n",
       "    <tr>\n",
       "      <th>13</th>\n",
       "      <td>2017-04-01</td>\n",
       "      <td>18258.369761</td>\n",
       "      <td>11552.672343</td>\n",
       "      <td>18416.881857</td>\n",
       "      <td>17408.150008</td>\n",
       "      <td>5782.405430</td>\n",
       "      <td>8622.793675</td>\n",
       "    </tr>\n",
       "    <tr>\n",
       "      <th>14</th>\n",
       "      <td>2017-05-01</td>\n",
       "      <td>20497.279008</td>\n",
       "      <td>11103.567332</td>\n",
       "      <td>20235.505720</td>\n",
       "      <td>17224.638357</td>\n",
       "      <td>5353.247486</td>\n",
       "      <td>9601.846282</td>\n",
       "    </tr>\n",
       "    <tr>\n",
       "      <th>15</th>\n",
       "      <td>2017-06-01</td>\n",
       "      <td>17668.791802</td>\n",
       "      <td>10327.017184</td>\n",
       "      <td>17106.998158</td>\n",
       "      <td>16592.989400</td>\n",
       "      <td>4662.288526</td>\n",
       "      <td>7347.704598</td>\n",
       "    </tr>\n",
       "    <tr>\n",
       "      <th>16</th>\n",
       "      <td>2017-07-01</td>\n",
       "      <td>15088.726313</td>\n",
       "      <td>9982.118672</td>\n",
       "      <td>18718.447177</td>\n",
       "      <td>17549.339355</td>\n",
       "      <td>4184.829105</td>\n",
       "      <td>7648.583803</td>\n",
       "    </tr>\n",
       "    <tr>\n",
       "      <th>17</th>\n",
       "      <td>2017-08-01</td>\n",
       "      <td>10569.752775</td>\n",
       "      <td>9943.525791</td>\n",
       "      <td>17071.989684</td>\n",
       "      <td>16254.476633</td>\n",
       "      <td>4112.806969</td>\n",
       "      <td>7053.522750</td>\n",
       "    </tr>\n",
       "    <tr>\n",
       "      <th>18</th>\n",
       "      <td>2017-09-01</td>\n",
       "      <td>10360.691929</td>\n",
       "      <td>8891.822059</td>\n",
       "      <td>16599.605189</td>\n",
       "      <td>16256.674598</td>\n",
       "      <td>4139.936658</td>\n",
       "      <td>7035.939625</td>\n",
       "    </tr>\n",
       "    <tr>\n",
       "      <th>19</th>\n",
       "      <td>2017-10-01</td>\n",
       "      <td>16061.554270</td>\n",
       "      <td>8844.790383</td>\n",
       "      <td>18569.669578</td>\n",
       "      <td>16179.006841</td>\n",
       "      <td>2957.185111</td>\n",
       "      <td>7196.319370</td>\n",
       "    </tr>\n",
       "    <tr>\n",
       "      <th>20</th>\n",
       "      <td>2017-11-01</td>\n",
       "      <td>12584.243093</td>\n",
       "      <td>9205.338118</td>\n",
       "      <td>18256.695672</td>\n",
       "      <td>17445.327273</td>\n",
       "      <td>3423.779756</td>\n",
       "      <td>7257.259369</td>\n",
       "    </tr>\n",
       "    <tr>\n",
       "      <th>21</th>\n",
       "      <td>2017-12-01</td>\n",
       "      <td>12302.562773</td>\n",
       "      <td>10038.583290</td>\n",
       "      <td>19008.784478</td>\n",
       "      <td>18167.493521</td>\n",
       "      <td>3403.977402</td>\n",
       "      <td>6430.515928</td>\n",
       "    </tr>\n",
       "    <tr>\n",
       "      <th>22</th>\n",
       "      <td>2018-01-01</td>\n",
       "      <td>12206.019513</td>\n",
       "      <td>9089.380306</td>\n",
       "      <td>18292.230486</td>\n",
       "      <td>19384.814795</td>\n",
       "      <td>2535.608375</td>\n",
       "      <td>6002.021427</td>\n",
       "    </tr>\n",
       "    <tr>\n",
       "      <th>23</th>\n",
       "      <td>2018-02-01</td>\n",
       "      <td>5780.131763</td>\n",
       "      <td>7605.716237</td>\n",
       "      <td>16429.990976</td>\n",
       "      <td>17496.051148</td>\n",
       "      <td>1556.262081</td>\n",
       "      <td>6354.162054</td>\n",
       "    </tr>\n",
       "  </tbody>\n",
       "</table>\n",
       "</div>"
      ],
      "text/plain": [
       "       Periode        Toyota    Mitsubishi         Honda      Daihatsu  \\\n",
       "0   2016-03-01  24757.254310  14141.217827  17490.617889  13294.833804   \n",
       "1   2016-04-01  26390.649614  14733.847421  17352.831588  14269.376629   \n",
       "2   2016-05-01  28842.018235  14069.183933  19634.831041  14083.143453   \n",
       "3   2016-06-01  26225.990403  13322.618144  15973.294690  13389.532391   \n",
       "4   2016-07-01  23858.384288  13020.918170  17703.844896  15080.655937   \n",
       "5   2016-08-01  19551.870124  12401.588144  14411.985789  13109.305343   \n",
       "6   2016-09-01  19555.268651  12211.263269  15083.680696  13273.889581   \n",
       "7   2016-10-01  25468.590366  12246.370094  17863.442031  13501.508533   \n",
       "8   2016-11-01  22203.738563  12473.067697  16955.368016  14929.845536   \n",
       "9   2016-12-01  22134.517616  13320.114441  18018.530737  15712.634539   \n",
       "10  2017-01-01  22250.433730  12471.564034  17175.211004  17671.655528   \n",
       "11  2017-02-01  16037.005353  10704.983965  15670.976852  15579.340350   \n",
       "12  2017-03-01  16837.433830  11335.009346  18389.919636  16493.368591   \n",
       "13  2017-04-01  18258.369761  11552.672343  18416.881857  17408.150008   \n",
       "14  2017-05-01  20497.279008  11103.567332  20235.505720  17224.638357   \n",
       "15  2017-06-01  17668.791802  10327.017184  17106.998158  16592.989400   \n",
       "16  2017-07-01  15088.726313   9982.118672  18718.447177  17549.339355   \n",
       "17  2017-08-01  10569.752775   9943.525791  17071.989684  16254.476633   \n",
       "18  2017-09-01  10360.691929   8891.822059  16599.605189  16256.674598   \n",
       "19  2017-10-01  16061.554270   8844.790383  18569.669578  16179.006841   \n",
       "20  2017-11-01  12584.243093   9205.338118  18256.695672  17445.327273   \n",
       "21  2017-12-01  12302.562773  10038.583290  19008.784478  18167.493521   \n",
       "22  2018-01-01  12206.019513   9089.380306  18292.230486  19384.814795   \n",
       "23  2018-02-01   5780.131763   7605.716237  16429.990976  17496.051148   \n",
       "\n",
       "          Suzuki        Others  \n",
       "0   10189.854467   8742.317873  \n",
       "1    9254.586487   9720.841259  \n",
       "2    9519.436759  11018.031074  \n",
       "3    8400.022076   8969.620154  \n",
       "4    8368.249276   9420.546893  \n",
       "5    8158.883201   8328.209040  \n",
       "6    8387.250058   8854.278436  \n",
       "7    7239.324304   9602.622739  \n",
       "8    7801.688404   9678.837768  \n",
       "9    7872.333140   8943.603383  \n",
       "10   7076.278412   8605.592900  \n",
       "11   6192.803595   9321.775578  \n",
       "12   6283.510039   7908.245731  \n",
       "13   5782.405430   8622.793675  \n",
       "14   5353.247486   9601.846282  \n",
       "15   4662.288526   7347.704598  \n",
       "16   4184.829105   7648.583803  \n",
       "17   4112.806969   7053.522750  \n",
       "18   4139.936658   7035.939625  \n",
       "19   2957.185111   7196.319370  \n",
       "20   3423.779756   7257.259369  \n",
       "21   3403.977402   6430.515928  \n",
       "22   2535.608375   6002.021427  \n",
       "23   1556.262081   6354.162054  "
      ]
     },
     "execution_count": 12,
     "metadata": {},
     "output_type": "execute_result"
    }
   ],
   "source": [
    "pred_gabungan"
   ]
  },
  {
   "cell_type": "code",
   "execution_count": null,
   "metadata": {},
   "outputs": [],
   "source": []
  },
  {
   "cell_type": "code",
   "execution_count": null,
   "metadata": {},
   "outputs": [],
   "source": []
  },
  {
   "cell_type": "code",
   "execution_count": 13,
   "metadata": {
    "ExecuteTime": {
     "end_time": "2019-11-20T00:07:45.029233Z",
     "start_time": "2019-11-20T00:07:44.954130Z"
    }
   },
   "outputs": [],
   "source": [
    "# tes = pd.read_csv('pred_gabungan.csv', parse_dates = ['Periode'], index_col = 'Periode')"
   ]
  },
  {
   "cell_type": "code",
   "execution_count": null,
   "metadata": {},
   "outputs": [],
   "source": []
  }
 ],
 "metadata": {
  "kernelspec": {
   "display_name": "Python 3",
   "language": "python",
   "name": "python3"
  },
  "language_info": {
   "codemirror_mode": {
    "name": "ipython",
    "version": 3
   },
   "file_extension": ".py",
   "mimetype": "text/x-python",
   "name": "python",
   "nbconvert_exporter": "python",
   "pygments_lexer": "ipython3",
   "version": "3.7.3"
  }
 },
 "nbformat": 4,
 "nbformat_minor": 2
}
